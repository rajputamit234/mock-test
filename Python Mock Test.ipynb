{
 "cells": [
  {
   "cell_type": "code",
   "execution_count": 165,
   "id": "adb04b6f-7737-4235-981f-9057de4a5089",
   "metadata": {},
   "outputs": [
    {
     "name": "stdout",
     "output_type": "stream",
     "text": [
      "[1, 54, 100, 4, 3, 4, 3, 4, 'rahul', 'mukesh']\n"
     ]
    },
    {
     "ename": "TypeError",
     "evalue": "'tuple' object does not support item assignment",
     "output_type": "error",
     "traceback": [
      "\u001b[1;31m---------------------------------------------------------------------------\u001b[0m",
      "\u001b[1;31mTypeError\u001b[0m                                 Traceback (most recent call last)",
      "Cell \u001b[1;32mIn[165], line 8\u001b[0m\n\u001b[0;32m      6\u001b[0m \u001b[38;5;66;03m# Immutable : it is not support item assiment.ex-tuple\u001b[39;00m\n\u001b[0;32m      7\u001b[0m b\u001b[38;5;241m=\u001b[39m(\u001b[38;5;241m1\u001b[39m,\u001b[38;5;241m3\u001b[39m,\u001b[38;5;241m5\u001b[39m,\u001b[38;5;241m3\u001b[39m,\u001b[38;5;124m'\u001b[39m\u001b[38;5;124mritik\u001b[39m\u001b[38;5;124m'\u001b[39m)\n\u001b[1;32m----> 8\u001b[0m b[\u001b[38;5;241m2\u001b[39m]\u001b[38;5;241m=\u001b[39m\u001b[38;5;241m212\u001b[39m\n\u001b[0;32m      9\u001b[0m \u001b[38;5;28mprint\u001b[39m(b)\n",
      "\u001b[1;31mTypeError\u001b[0m: 'tuple' object does not support item assignment"
     ]
    }
   ],
   "source": [
    "# 1. Explain the difference between mutable and immutable data types in Python. Provide examples for both.\n",
    "# mutable data types:- in this data types value can be changed or new values can be assigned.ex- list,set,dictionary\n",
    "a=[1,54,3,4,3,4,3,4,'rahul','mukesh']\n",
    "a[2]=100\n",
    "print(a)\n",
    "# Immutable : it is not support item assiment.ex-tuple\n",
    "b=(1,3,5,3,'ritik')\n",
    "b[2]=212\n",
    "print(b)"
   ]
  },
  {
   "cell_type": "code",
   "execution_count": 2,
   "id": "0e124726-2ddf-4985-bb32-57676aed03a5",
   "metadata": {},
   "outputs": [],
   "source": [
    "# 2. List out all the Python keywords and explain lambda concept using map, filter and reduce."
   ]
  },
  {
   "cell_type": "code",
   "execution_count": 153,
   "id": "1ab0fc46-5824-41a0-80e2-b09e05722b24",
   "metadata": {},
   "outputs": [],
   "source": [
    "# 3. How does Python handle variable scope and what are the different types of vaniable scopes available?"
   ]
  },
  {
   "cell_type": "code",
   "execution_count": 155,
   "id": "35cd799c-8bce-478d-8f56-8a494c6f7fef",
   "metadata": {},
   "outputs": [],
   "source": [
    "# 4. Write a Python function to print all prime numbers between given number1 and number2.\n",
    "def check_prime_num_between(num1,num2):\n",
    "    for i in range(num1,num2+1):\n",
    "        if i%2==0:\n",
    "            print(f'{i}: is Not a prime Number')\n",
    "        else:\n",
    "            print(f'{i}: is a prime Number')"
   ]
  },
  {
   "cell_type": "code",
   "execution_count": 156,
   "id": "800cbdf3-81e5-4add-ada6-4fea056992b3",
   "metadata": {},
   "outputs": [
    {
     "name": "stdout",
     "output_type": "stream",
     "text": [
      "1: is a prime Number\n",
      "2: is Not a prime Number\n",
      "3: is a prime Number\n",
      "4: is Not a prime Number\n",
      "5: is a prime Number\n"
     ]
    }
   ],
   "source": [
    "check_prime_num_between(1,5)"
   ]
  },
  {
   "cell_type": "code",
   "execution_count": 158,
   "id": "5a75e09f-123d-4bc8-9291-5b8140e7627d",
   "metadata": {},
   "outputs": [],
   "source": [
    "# 5. Create function to check given number is an Armstrong number or not.\n",
    "def check_armstrong(number:'int'):\n",
    "    lt=len(str(number))\n",
    "    result=0\n",
    "    for i in str(number):\n",
    "        result+=int(i)**lt\n",
    "    return 'Armstrong' if result==a else 'Not a Armstrong'"
   ]
  },
  {
   "cell_type": "code",
   "execution_count": 160,
   "id": "d8cd7286-0af9-44aa-82a7-0f14a4d3f014",
   "metadata": {},
   "outputs": [
    {
     "data": {
      "text/plain": [
       "'Armstrong'"
      ]
     },
     "execution_count": 160,
     "metadata": {},
     "output_type": "execute_result"
    }
   ],
   "source": [
    "check_armstrong(153)"
   ]
  },
  {
   "cell_type": "code",
   "execution_count": 47,
   "id": "195e8c42-8498-4485-b944-96c3f8ae1489",
   "metadata": {},
   "outputs": [],
   "source": [
    "# 6. Write a Python function to generate the first n Fibonacci numbers.\n",
    "def generate_fibo(num):\n",
    "    fibo=[0,1]\n",
    "    for i in range(num-2):\n",
    "        fibo.append(fibo[-1]+fibo[-2])\n",
    "    return fibo"
   ]
  },
  {
   "cell_type": "code",
   "execution_count": 49,
   "id": "b42c80d4-a3b0-49b9-a3c0-819cf2205673",
   "metadata": {},
   "outputs": [
    {
     "data": {
      "text/plain": [
       "[0, 1, 1, 2, 3]"
      ]
     },
     "execution_count": 49,
     "metadata": {},
     "output_type": "execute_result"
    }
   ],
   "source": [
    "generate_fibo(5)"
   ]
  },
  {
   "cell_type": "code",
   "execution_count": 111,
   "id": "4c39c4de-2e02-4a86-8bda-ec0a39d30bfb",
   "metadata": {},
   "outputs": [],
   "source": [
    "# 7. Write a Python function to reverse a list without using list.reverse method or reversed() function,2\n",
    "def list_reverse(list):\n",
    "    result=list[::-1]\n",
    "    print(result)"
   ]
  },
  {
   "cell_type": "code",
   "execution_count": 166,
   "id": "bf5776f5-4ef3-4ca8-a4da-d33e738cc5e9",
   "metadata": {},
   "outputs": [
    {
     "name": "stdout",
     "output_type": "stream",
     "text": [
      "[9, 8, 7, 6, 5, 4, 3, 2, 1]\n"
     ]
    }
   ],
   "source": [
    "list_reverse([1,2,3,4,5,6,7,8,9])"
   ]
  },
  {
   "cell_type": "code",
   "execution_count": 171,
   "id": "df545c70-6205-4db8-af15-ecfc2d580375",
   "metadata": {},
   "outputs": [],
   "source": [
    "# 8. Explain the concept of args and **kwargs in function and difference b/w return and print with example.\n",
    "# print:- print is use to pritn tha result and after the prit we can to use the result.\n",
    "# return is use to return the result as a real value.\n",
    "def add(x,y:'int'):\n",
    "    print(x,y)"
   ]
  },
  {
   "cell_type": "code",
   "execution_count": 175,
   "id": "4301c5f3-46b0-4709-a612-b84e30c164cc",
   "metadata": {},
   "outputs": [
    {
     "name": "stdout",
     "output_type": "stream",
     "text": [
      "10 20\n"
     ]
    },
    {
     "ename": "TypeError",
     "evalue": "unsupported operand type(s) for +: 'NoneType' and 'int'",
     "output_type": "error",
     "traceback": [
      "\u001b[1;31m---------------------------------------------------------------------------\u001b[0m",
      "\u001b[1;31mTypeError\u001b[0m                                 Traceback (most recent call last)",
      "Cell \u001b[1;32mIn[175], line 1\u001b[0m\n\u001b[1;32m----> 1\u001b[0m add(\u001b[38;5;241m10\u001b[39m,\u001b[38;5;241m20\u001b[39m)\u001b[38;5;241m+\u001b[39m\u001b[38;5;241m10\u001b[39m\n",
      "\u001b[1;31mTypeError\u001b[0m: unsupported operand type(s) for +: 'NoneType' and 'int'"
     ]
    }
   ],
   "source": [
    "add(10,20)+10"
   ]
  },
  {
   "cell_type": "code",
   "execution_count": 178,
   "id": "0a16cf08-2b16-43b9-81fc-0d9e40ce009b",
   "metadata": {},
   "outputs": [],
   "source": [
    "def addd(x,y):\n",
    "    return x+y"
   ]
  },
  {
   "cell_type": "code",
   "execution_count": 180,
   "id": "cbb0de84-dc64-456d-8383-048439862434",
   "metadata": {},
   "outputs": [
    {
     "data": {
      "text/plain": [
       "40"
      ]
     },
     "execution_count": 180,
     "metadata": {},
     "output_type": "execute_result"
    }
   ],
   "source": [
    "addd(10,20)+10"
   ]
  },
  {
   "cell_type": "code",
   "execution_count": 174,
   "id": "92ac17f8-a4b7-49cb-a42c-b1a7cb8f4112",
   "metadata": {},
   "outputs": [],
   "source": [
    "# 10. Write a Python function to check if two strings are anagrams without using any methods.\n",
    "def check_anagrams(data1,data2:'str'):\n",
    "    str1={}\n",
    "    str2={}\n",
    "    for i in data1:\n",
    "        str1[i]=data1.count(i)\n",
    "    for j in data2:\n",
    "        str2[j]=data2.count(i)\n",
    "    print('Anagrms' if str1==str2 else 'Not anagrams')"
   ]
  },
  {
   "cell_type": "code",
   "execution_count": null,
   "id": "9dfe92a6-3042-4495-b3b6-e6839bcdb033",
   "metadata": {},
   "outputs": [],
   "source": []
  },
  {
   "cell_type": "code",
   "execution_count": 150,
   "id": "c80f9628-5f1b-42f3-b529-bfed223ea865",
   "metadata": {},
   "outputs": [
    {
     "name": "stdout",
     "output_type": "stream",
     "text": [
      "Anagrms\n"
     ]
    }
   ],
   "source": [
    "check_anagrams('listen','silent')"
   ]
  },
  {
   "cell_type": "code",
   "execution_count": 151,
   "id": "c53b9c20-f452-4862-b418-830a0eef8205",
   "metadata": {},
   "outputs": [],
   "source": [
    "# 11. Write a Python program to print the given pattern.\n",
    "def pattern_peramid(n):\n",
    "    for i in range(n):\n",
    "        print(' '*(n-i-1)+' *'*(i+1))"
   ]
  },
  {
   "cell_type": "code",
   "execution_count": 152,
   "id": "104f9587-572c-4ba7-91a4-26d194963d1f",
   "metadata": {},
   "outputs": [
    {
     "name": "stdout",
     "output_type": "stream",
     "text": [
      "     *\n",
      "    * *\n",
      "   * * *\n",
      "  * * * *\n",
      " * * * * *\n"
     ]
    }
   ],
   "source": [
    "pattern_peramid(5)"
   ]
  },
  {
   "cell_type": "code",
   "execution_count": null,
   "id": "1cd9f936-a591-40f7-99a9-59c52b8c6ad2",
   "metadata": {},
   "outputs": [],
   "source": []
  }
 ],
 "metadata": {
  "kernelspec": {
   "display_name": "Python 3 (ipykernel)",
   "language": "python",
   "name": "python3"
  },
  "language_info": {
   "codemirror_mode": {
    "name": "ipython",
    "version": 3
   },
   "file_extension": ".py",
   "mimetype": "text/x-python",
   "name": "python",
   "nbconvert_exporter": "python",
   "pygments_lexer": "ipython3",
   "version": "3.11.7"
  }
 },
 "nbformat": 4,
 "nbformat_minor": 5
}
